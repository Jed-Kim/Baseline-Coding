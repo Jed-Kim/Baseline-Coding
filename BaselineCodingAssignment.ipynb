{
 "cells": [
  {
   "cell_type": "markdown",
   "metadata": {},
   "source": [
    "## Skill Assessment: Bayou Meto Lidar Quality Assessment (ungraded)\n",
    "* Pull the csv file BayouMeto_LiDAR_QA.csv file from the Data folder in this project.\n",
    "** This file contains the locations of 40 or so check points that will be used to assess the quality of the height measured by a airborne LiDAR (LidarZ column) against a high-precision GPS measurment (GPSZ). The file contains a uniqued check point id (ID) and a Region column indicating two separate collection campaigns, and a LandCover column indicating the type of land cover over the check point.\n",
    "Perform the following analyses in the most efficient way you know using the Python skills you learned in Introduction to Programming\n",
    "* Read the data file\n",
    "* Plot the locations of the check points (the X and Y columns)\n",
    "* Compute and print the mean and standard deviation of the differences between the Lidar-Z and GPS-Z measurements.\n",
    "* Compute and print the mean and standard deviation of the differences between the LiDAR-Z and GPS-Z measurements by Region.\n",
    "* Compute and print the mean and standard deviation of the differences betweent the LiDAR-Z and GPS-Z measurements by LandCover.\n",
    "* Qualitatively assess, in a comment section in your script, whether measurement quality is affected by Region or LandCover\n",
    "* Create a plot of your choice to illustrate your assessment.\n",
    "* Deliver your answers in the form of a documented Python script"
   ]
  },
  {
   "cell_type": "code",
   "execution_count": 2,
   "metadata": {},
   "outputs": [],
   "source": [
    "# Importing packages\n",
    "import pandas as pd\n",
    "import matplotlib.pyplot as plt"
   ]
  },
  {
   "cell_type": "code",
   "execution_count": 3,
   "metadata": {},
   "outputs": [
    {
     "data": {
      "text/html": [
       "<div>\n",
       "<style scoped>\n",
       "    .dataframe tbody tr th:only-of-type {\n",
       "        vertical-align: middle;\n",
       "    }\n",
       "\n",
       "    .dataframe tbody tr th {\n",
       "        vertical-align: top;\n",
       "    }\n",
       "\n",
       "    .dataframe thead th {\n",
       "        text-align: right;\n",
       "    }\n",
       "</style>\n",
       "<table border=\"1\" class=\"dataframe\">\n",
       "  <thead>\n",
       "    <tr style=\"text-align: right;\">\n",
       "      <th></th>\n",
       "      <th>Region</th>\n",
       "      <th>ID</th>\n",
       "      <th>Description</th>\n",
       "      <th>X</th>\n",
       "      <th>Y</th>\n",
       "      <th>GPS-Z</th>\n",
       "      <th>Lidar-Z</th>\n",
       "      <th>LandCover</th>\n",
       "    </tr>\n",
       "  </thead>\n",
       "  <tbody>\n",
       "    <tr>\n",
       "      <th>0</th>\n",
       "      <td>North</td>\n",
       "      <td>21</td>\n",
       "      <td>Lonoke Park</td>\n",
       "      <td>600612.683</td>\n",
       "      <td>3849204.812</td>\n",
       "      <td>73.620</td>\n",
       "      <td>73.684</td>\n",
       "      <td>Asphalt</td>\n",
       "    </tr>\n",
       "    <tr>\n",
       "      <th>1</th>\n",
       "      <td>North</td>\n",
       "      <td>22</td>\n",
       "      <td>Lonoke HS Parking</td>\n",
       "      <td>600123.308</td>\n",
       "      <td>3849067.230</td>\n",
       "      <td>73.852</td>\n",
       "      <td>73.973</td>\n",
       "      <td>Asphalt</td>\n",
       "    </tr>\n",
       "    <tr>\n",
       "      <th>2</th>\n",
       "      <td>North</td>\n",
       "      <td>26</td>\n",
       "      <td>England HS Parking</td>\n",
       "      <td>595917.787</td>\n",
       "      <td>3822919.619</td>\n",
       "      <td>68.964</td>\n",
       "      <td>69.088</td>\n",
       "      <td>Asphalt</td>\n",
       "    </tr>\n",
       "    <tr>\n",
       "      <th>3</th>\n",
       "      <td>North</td>\n",
       "      <td>39</td>\n",
       "      <td>Carlisle Park</td>\n",
       "      <td>614680.847</td>\n",
       "      <td>3850053.041</td>\n",
       "      <td>70.818</td>\n",
       "      <td>70.955</td>\n",
       "      <td>Asphalt</td>\n",
       "    </tr>\n",
       "    <tr>\n",
       "      <th>4</th>\n",
       "      <td>South</td>\n",
       "      <td>8</td>\n",
       "      <td>5800-50063355</td>\n",
       "      <td>613953.929</td>\n",
       "      <td>3805055.048</td>\n",
       "      <td>58.563</td>\n",
       "      <td>58.518</td>\n",
       "      <td>Asphalt</td>\n",
       "    </tr>\n",
       "  </tbody>\n",
       "</table>\n",
       "</div>"
      ],
      "text/plain": [
       "  Region  ID         Description           X            Y   GPS-Z  Lidar-Z  \\\n",
       "0  North  21         Lonoke Park  600612.683  3849204.812  73.620   73.684   \n",
       "1  North  22   Lonoke HS Parking  600123.308  3849067.230  73.852   73.973   \n",
       "2  North  26  England HS Parking  595917.787  3822919.619  68.964   69.088   \n",
       "3  North  39       Carlisle Park  614680.847  3850053.041  70.818   70.955   \n",
       "4  South   8       5800-50063355  613953.929  3805055.048  58.563   58.518   \n",
       "\n",
       "  LandCover  \n",
       "0   Asphalt  \n",
       "1   Asphalt  \n",
       "2   Asphalt  \n",
       "3   Asphalt  \n",
       "4   Asphalt  "
      ]
     },
     "execution_count": 3,
     "metadata": {},
     "output_type": "execute_result"
    }
   ],
   "source": [
    "# Reading in the data. Note that I put the csv file in the directory to make things a little easier.\n",
    "data = pd.read_csv(\"BayouMeto_Lidar_QA.csv\")\n",
    "pd.DataFrame.head(data)"
   ]
  },
  {
   "cell_type": "code",
   "execution_count": 4,
   "metadata": {},
   "outputs": [
    {
     "data": {
      "image/png": "[encoded data removed]",
      "text/plain": [
       "<Figure size 432x288 with 1 Axes>"
      ]
     },
     "metadata": {
      "needs_background": "light"
     },
     "output_type": "display_data"
    }
   ],
   "source": [
    "# Plot the locations of the check points (the X and Y columns)\n",
    "\n",
    "plt.scatter(data[\"X\"], data[\"Y\"], alpha=0.5)\n",
    "plt.xlabel(\"X\")\n",
    "plt.ylabel(\"Y\")\n",
    "plt.title(\"Locations in the LiDAR Data\")\n",
    "plt.show()"
   ]
  },
  {
   "cell_type": "code",
   "execution_count": 5,
   "metadata": {},
   "outputs": [
    {
     "name": "stdout",
     "output_type": "stream",
     "text": [
      "Mean difference: 0.07010000000000005\n",
      "Standard deviation difference: 0.12297629540187603\n"
     ]
    }
   ],
   "source": [
    "# Compute and print the mean and standard deviation of the differences between the Lidar-Z and GPS-Z measurements.\n",
    "\n",
    "# Create a difference column for the Lidar-Z and GPS-Z measurements and set it as a variable\n",
    "data[\"difference\"] = data[\"Lidar-Z\"] - data[\"GPS-Z\"]\n",
    "difference = data[\"difference\"]\n",
    "\n",
    "# Calculate the mean and standard deviation\n",
    "print(\"Mean difference: \" + str(difference.mean()))\n",
    "print(\"Standard deviation difference: \" + str(difference.std()))"
   ]
  },
  {
   "cell_type": "markdown",
   "metadata": {},
   "source": [
    "We can see from this that the 2 forms of measurement are fairly close to each ofther."
   ]
  },
  {
   "cell_type": "code",
   "execution_count": 6,
   "metadata": {},
   "outputs": [
    {
     "name": "stdout",
     "output_type": "stream",
     "text": [
      "Mean difference by region: Region\n",
      "North    0.1397\n",
      "South    0.0005\n",
      "Name: difference, dtype: float64\n",
      "\n",
      "Standard deviation difference by region: Region\n",
      "North    0.117374\n",
      "South    0.084068\n",
      "Name: difference, dtype: float64\n"
     ]
    }
   ],
   "source": [
    "# Compute and print the mean and standard deviation of the differences between the Lidar-Z and GPS-Z measurements by region\n",
    "\n",
    "# Create variables\n",
    "\n",
    "region_difference = data.groupby(\"Region\")[\"difference\"]\n",
    "\n",
    "mean_difference_region = region_difference.mean()\n",
    "stdv_difference_region = region_difference.std()\n",
    "\n",
    "# Print the differences\n",
    "print(\"Mean difference by region: \" + str(mean_difference_region) + \"\\n\")\n",
    "print(\"Standard deviation difference by region: \" + str(stdv_difference_region))"
   ]
  },
  {
   "cell_type": "code",
   "execution_count": 7,
   "metadata": {},
   "outputs": [
    {
     "name": "stdout",
     "output_type": "stream",
     "text": [
      "Mean difference by region: LandCover\n",
      "Asphalt    0.048714\n",
      "Dirt       0.019143\n",
      "Forest     0.106143\n",
      "Grass      0.078900\n",
      "Scrub      0.088556\n",
      "Name: difference, dtype: float64\n",
      "\n",
      "Standard deviation difference by region: LandCover\n",
      "Asphalt    0.048714\n",
      "Dirt       0.019143\n",
      "Forest     0.106143\n",
      "Grass      0.078900\n",
      "Scrub      0.088556\n",
      "Name: difference, dtype: float64\n"
     ]
    }
   ],
   "source": [
    "# Compute and print the mean and standard deviation of the differences between the Lidar-Z and GPS-Z measurements by landcover\n",
    "\n",
    "# Create variables\n",
    "\n",
    "landcover_difference = data.groupby(\"LandCover\")[\"difference\"]\n",
    "\n",
    "mean_difference_landcover = landcover_difference.mean()\n",
    "stdv_difference_lancover = landcover_difference.std()\n",
    "\n",
    "# Print the differences\n",
    "print(\"Mean difference by region: \" + str(mean_difference_landcover) + \"\\n\")\n",
    "print(\"Standard deviation difference by region: \" + str(mean_difference_landcover))"
   ]
  },
  {
   "cell_type": "markdown",
   "metadata": {},
   "source": [
    "## Insights?\n",
    "Looking at these calculations, we can see that the measurements differ the most are in Northern regions and in forest and scrub areas. The reason why forest and scrub areas are inconsistent is likely because one of the measurement types (probably the Lidar measurement) is more sensitive to foliage, such as tall trees, which would change the measurements of the landscape. Northern regions also have quite varying measurements between the 2 methods, which is also likely because of the topography of the north regions compared to the south regions. Southern regions are likely more flat and have less forest."
   ]
  },
  {
   "cell_type": "code",
   "execution_count": 8,
   "metadata": {},
   "outputs": [
    {
     "data": {
      "image/png": "[encoded data removed]",
      "text/plain": [
       "<Figure size 432x288 with 1 Axes>"
      ]
     },
     "metadata": {
      "needs_background": "light"
     },
     "output_type": "display_data"
    }
   ],
   "source": [
    "# plotting to show difference between lidar and gps\n",
    "\n",
    "plt.scatter(data[\"Lidar-Z\"], data[\"GPS-Z\"], alpha=0.5)\n",
    "plt.xlabel(\"Lidar\")\n",
    "plt.ylabel(\"GPS\")\n",
    "plt.title(\"Lidar vs. GPS measurements\")\n",
    "plt.show()"
   ]
  },
  {
   "cell_type": "code",
   "execution_count": 15,
   "metadata": {},
   "outputs": [
    {
     "data": {
      "image/png": "[encoded data removed]",
      "text/plain": [
       "<Figure size 432x288 with 1 Axes>"
      ]
     },
     "metadata": {
      "needs_background": "light"
     },
     "output_type": "display_data"
    }
   ],
   "source": [
    "plt.bar(data[\"LandCover\"].values, data[\"difference\"])\n",
    "plt.title(\"Difference of Lidar vs. GPS Measurements\")\n",
    "plt.show()"
   ]
  }
 ],
 "metadata": {
  "kernelspec": {
   "display_name": "Python 3.9.12 ('base')",
   "language": "python",
   "name": "python3"
  },
  "language_info": {
   "codemirror_mode": {
    "name": "ipython",
    "version": 3
   },
   "file_extension": ".py",
   "mimetype": "text/x-python",
   "name": "python",
   "nbconvert_exporter": "python",
   "pygments_lexer": "ipython3",
   "version": "3.9.12"
  },
  "orig_nbformat": 4,
  "vscode": {
   "interpreter": {
    "hash": "788c426937a52a7444ff9e61c3c0a8e60d68a4c6bfc25f466e7413ca69f04fde"
   }
  }
 },
 "nbformat": 4,
 "nbformat_minor": 2
}
